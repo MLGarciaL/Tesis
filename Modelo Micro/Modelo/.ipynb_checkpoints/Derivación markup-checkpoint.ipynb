{
 "cells": [
  {
   "cell_type": "markdown",
   "id": "e2480ce4-15ca-4793-8aeb-5cca408ac20c",
   "metadata": {},
   "source": [
    "Dominant Firm Pricing and Fringe Expansion: The Case of the U.S. Iron and Steel Industry, 1907-1930\n",
    "\n",
    "Empresa dominantes y las otras en la franja. \n",
    "\n",
    "La demanda de mercado esta dada por $Q = f(p)$, mientras que la oferta de la franja queda determinada por $Q^f = g(p)$, debido a que se vacia el mercado suponemos que $Q = Q^f + q_i$. Tomando diferencial total respecto de $p$ y aplicando elasticidades nos queda:\n",
    "\n",
    "$$\\frac{\\partial Q}{\\partial p} = \\frac{\\partial Q^f}{\\partial p} + \\frac{\\partial q_i}{\\partial p}$$\n",
    "\n",
    "$\\frac{\\partial Q}{\\partial p} \\frac{Q}{Q}= \\frac{\\partial Q^f}{\\partial p}\\frac{Q^f}{Q^f} + \\frac{\\partial q_i}{\\partial p}\\frac{q_i}{q_i}$\n",
    "\n",
    "$\\eta^s Q^f - \\eta q_i= - \\eta^dQ$\n",
    "\n",
    "$\\eta q_i= \\eta^s Q^f+ \\eta^dQ$\n",
    "\n",
    "$\\eta q_i= \\eta^s (Q - q_i)+ \\eta^dQ$\n",
    "\n",
    "$$\\eta s_i= \\eta^s (1 - s_i)+ \\eta^d$$\n",
    "\n",
    "\n",
    "$$\\max_p \\pi_i = \\left[f(p) - g(p)\\right]p - c(q_i(p))$$\n",
    "\n",
    "**CPO**\n",
    "\n",
    "$$\\left[f'(p) - g'(p)\\right]p + q_i - c'(q_i) q_i'(p)=0$$\n",
    "\n",
    "El primer término, por lo tanto, puede escribirse como:\n",
    "\n",
    "$-\\left[\\eta^dQ + \\eta^s(1 - s_i)Q \\right] + q_i  - c'(q_i) q_i'(p)=0$\n",
    "\n",
    "Mientras que $q_i = Q - Q^f = Q - (1 - s_i)Q$:\n",
    "\n",
    "$-\\left[\\eta^dQ + \\eta^s(1 - s_i)Q \\right] + Q - (1 - s_i)Q  - c'(q_i) q_i'(p)=0$\n",
    "\n",
    "Reordenando:\n",
    "\n",
    "$-\\left[(\\eta^d - 1) + (\\eta^s + 1)(1 - s_i) \\right]Q  = c'(q_i) q_i'(p)$\n",
    "\n",
    "Aplicando la formula de elasticidad del lado derecho:\n",
    "\n",
    "$-\\left[(\\eta^d - 1) + (\\eta^s + 1)(1 - s_i) \\right]Q  = c'(q_i) q_i'(p)$\n",
    "\n",
    "$-\\left[(\\eta^d - 1) + (\\eta^s + 1)(1 - s_i) \\right]Q  = - c'(q_i)\\frac{q_i}{p}\\eta $\n",
    "\n",
    "Reordenando:\n",
    "\n",
    "$\\left[(\\eta^d - 1) + (\\eta^s + 1)(1 - s_i) \\right]p  = c'(q_i)\\left[\\eta^s (1 - s_i)+ \\eta^d\\right]$\n",
    "\n",
    "$\\frac{p}{mc} = \\frac{\\eta^s (1 - s_i)+ \\eta^d}{(\\eta^d - 1) + (\\eta^s + 1)(1 - s_i) }$\n",
    "\n",
    "$$\\frac{p}{mc} = \\frac{\\eta^s (1 - s_i)+ \\eta^d}{\\eta^d+ \\eta^s(1 - s_i) - s_i}$$\n"
   ]
  }
 ],
 "metadata": {
  "kernelspec": {
   "display_name": "Python 3 (ipykernel)",
   "language": "python",
   "name": "python3"
  },
  "language_info": {
   "codemirror_mode": {
    "name": "ipython",
    "version": 3
   },
   "file_extension": ".py",
   "mimetype": "text/x-python",
   "name": "python",
   "nbconvert_exporter": "python",
   "pygments_lexer": "ipython3",
   "version": "3.10.6"
  },
  "widgets": {
   "application/vnd.jupyter.widget-state+json": {
    "state": {},
    "version_major": 2,
    "version_minor": 0
   }
  }
 },
 "nbformat": 4,
 "nbformat_minor": 5
}
