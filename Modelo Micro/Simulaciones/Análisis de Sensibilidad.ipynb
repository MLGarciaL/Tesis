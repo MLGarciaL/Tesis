{
 "cells": [
  {
   "cell_type": "code",
   "execution_count": 1,
   "id": "c43a42bb-419a-472e-8e01-529cef03f0e0",
   "metadata": {},
   "outputs": [],
   "source": [
    "from Winter93SA import NWCap12\n",
    "import numpy as np\n",
    "import pandas as pd\n",
    "import matplotlib.pyplot as plt\n",
    "from itertools import product\n",
    "\n",
    "np.random.seed(1)"
   ]
  },
  {
   "cell_type": "code",
   "execution_count": 2,
   "id": "76f09068-1fb7-4913-a623-d607590b1aba",
   "metadata": {},
   "outputs": [],
   "source": [
    "import numpy as np\n",
    "\n",
    "CT_values = np.linspace(0.001, 0.01, 11)  # De 0.00 a 0.01 en pasos de 0.001\n",
    "Instmu_values = np.linspace(0.005, 0.015, 11)  # De 0.005 a 0.015\n",
    "Instsigma_values = np.linspace(0.005, 0.015, 11)  # De 0.005 a 0.015\n",
    "\n",
    "param_combinations = list(product(CT_values, Instmu_values, Instsigma_values))\n",
    "results = []\n",
    "for CT, Instmu, Instsigma in param_combinations:\n",
    "    output = NWCap12(t=100, n=5, prop=0.5, patentime=0, CT = CT, Instmu = Instmu, Instsigma = Instsigma)\n",
    "    total_patents = sum(sum(lista) for lista in output.patent_it)\n",
    "    results.append({\n",
    "        \"CT\": CT,\n",
    "        \"Instmu\": Instmu,\n",
    "        \"Instsigma\": Instsigma,\n",
    "        \"Total_Patents\": total_patents\n",
    "    })\n",
    "\n",
    "results_df = pd.DataFrame(results)"
   ]
  },
  {
   "cell_type": "code",
   "execution_count": 3,
   "id": "a1507268-4233-4be7-9197-fffcb6ba5359",
   "metadata": {},
   "outputs": [],
   "source": [
    "results_df.to_csv(\"Bases\\sensitivity_analysis_resultsER.csv\", index=False)"
   ]
  },
  {
   "cell_type": "code",
   "execution_count": 4,
   "id": "73f4c89a-e545-4dd9-b6d7-b5b82fd14884",
   "metadata": {},
   "outputs": [
    {
     "name": "stdout",
     "output_type": "stream",
     "text": [
      "\n",
      "Elasticities: {'CT': 79.9583, 'Instmu': 35.8194, 'Instsigma': 3.6101}\n"
     ]
    },
    {
     "data": {
      "text/plain": [
       "119.3878"
      ]
     },
     "execution_count": 4,
     "metadata": {},
     "output_type": "execute_result"
    }
   ],
   "source": [
    "import numpy as np\n",
    "import pandas as pd\n",
    "\n",
    "results_df = pd.read_csv(\"Bases\\sensitivity_analysis_resultsER.csv\")\n",
    "elasticities = {}\n",
    "for param in ['CT', 'Instmu', 'Instsigma']:\n",
    "    change_in_patents = (results_df['Total_Patents'] + 1).pct_change().mean()  # Cambio promedio en patentes\n",
    "    change_in_param = results_df[param].pct_change().mean()  # Cambio promedio en el parámetro\n",
    "    elasticity = change_in_patents / change_in_param\n",
    "    elasticities[param] = round(elasticity,4)\n",
    "print(\"\\nElasticities:\", elasticities)\n",
    "elasticities['CT'] + elasticities['Instmu'] + elasticities['Instsigma']"
   ]
  },
  {
   "cell_type": "code",
   "execution_count": 5,
   "id": "8b7c84d6-d0bc-4c08-b860-c2edbf89e0c0",
   "metadata": {},
   "outputs": [],
   "source": [
    "import numpy as np\n",
    "\n",
    "CT_values = np.linspace(0.001, 0.01, 11)  # De 0.01 a 0.02 en pasos de 0.001\n",
    "Instmu_values = np.linspace(0.005, 0.015, 11)  # De 0.005 a 0.015\n",
    "Instsigma_values = np.linspace(0.005, 0.015, 11)  # De 0.005 a 0.015\n",
    "\n",
    "param_combinations = list(product(CT_values, Instmu_values, Instsigma_values))\n",
    "results = []\n",
    "for CT, Instmu, Instsigma in param_combinations:\n",
    "    output = NWCap12(t=100, n=5, prop=0.5, patentime=0, CT = CT, Instmu = Instmu, Instsigma = Instsigma, RR = True)\n",
    "    total_patents = sum(sum(lista) for lista in output.patent_it)\n",
    "    results.append({\n",
    "        \"CT\": CT,\n",
    "        \"Instmu\": Instmu,\n",
    "        \"Instsigma\": Instsigma,\n",
    "        \"Total_Patents\": total_patents\n",
    "    })\n",
    "\n",
    "results_df = pd.DataFrame(results)"
   ]
  },
  {
   "cell_type": "code",
   "execution_count": 6,
   "id": "bbffd4a4-c00a-4cab-b454-fef4df1ba05a",
   "metadata": {},
   "outputs": [],
   "source": [
    "results_df.to_csv(\"Bases\\sensitivity_analysis_resultsRR.csv\", index=False)"
   ]
  },
  {
   "cell_type": "code",
   "execution_count": 7,
   "id": "24c7db31-9639-4414-8237-ac32810c64b3",
   "metadata": {},
   "outputs": [
    {
     "name": "stdout",
     "output_type": "stream",
     "text": [
      "\n",
      "Elasticities: {'CT': 78.1358, 'Instmu': 35.0029, 'Instsigma': 3.5278}\n"
     ]
    },
    {
     "data": {
      "text/plain": [
       "116.6665"
      ]
     },
     "execution_count": 7,
     "metadata": {},
     "output_type": "execute_result"
    }
   ],
   "source": [
    "import numpy as np\n",
    "import pandas as pd\n",
    "\n",
    "results_df = pd.read_csv(\"Bases\\sensitivity_analysis_resultsRR.csv\")\n",
    "elasticities = {}\n",
    "for param in ['CT', 'Instmu', 'Instsigma']:\n",
    "    change_in_patents = (results_df['Total_Patents'] + 1).pct_change().mean()  # Cambio promedio en patentes\n",
    "    change_in_param = results_df[param].pct_change().mean()  # Cambio promedio en el parámetro\n",
    "    elasticity = change_in_patents / change_in_param\n",
    "    elasticities[param] = round(elasticity,4)\n",
    "print(\"\\nElasticities:\", elasticities)\n",
    "elasticities['CT'] + elasticities['Instmu'] + elasticities['Instsigma']"
   ]
  }
 ],
 "metadata": {
  "kernelspec": {
   "display_name": "Python 3 (ipykernel)",
   "language": "python",
   "name": "python3"
  },
  "language_info": {
   "codemirror_mode": {
    "name": "ipython",
    "version": 3
   },
   "file_extension": ".py",
   "mimetype": "text/x-python",
   "name": "python",
   "nbconvert_exporter": "python",
   "pygments_lexer": "ipython3",
   "version": "3.10.6"
  },
  "widgets": {
   "application/vnd.jupyter.widget-state+json": {
    "state": {},
    "version_major": 2,
    "version_minor": 0
   }
  }
 },
 "nbformat": 4,
 "nbformat_minor": 5
}
