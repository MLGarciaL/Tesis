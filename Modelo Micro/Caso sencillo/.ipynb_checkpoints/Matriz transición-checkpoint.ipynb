{
 "cells": [
  {
   "cell_type": "markdown",
   "id": "ef2d9a4a-0e21-447e-b1d5-772d3bf512ab",
   "metadata": {},
   "source": [
    "Matriz transición"
   ]
  },
  {
   "cell_type": "markdown",
   "id": "3c26dfb6-f607-4011-aa5a-43460d9b0fad",
   "metadata": {},
   "source": [
    "- **Infectada con mejor tecnología**:\n",
    "\n",
    "Es decir que de las muestras debe ser la máxima, y al menos una de las muestras sea mayor que cero: Probabilidad todas negativas: $0.5^{n\\cdot P_{inf}}$ y que haya una firma que no se haya contagiado:\n",
    "\n",
    "$$P_{inf}\\cdot \\frac{1}{n\\cdot P_{inf}}\\cdot\\left(1 - n(1 - P_{inf}) 0.5^{n\\cdot P_{inf}}\\right)$$\n",
    "\n",
    "$$\\frac{1}{n}\\cdot\\left(1 - n(1 - P_{inf}) 0.5^{n\\cdot P_{inf}}\\right)$$\n",
    "\n",
    "$$\\frac{1}{n} - (1 - P_{inf}) 0.5^{n\\cdot P_{inf}}$$\n",
    "\n",
    "- Infectadas con no mayor tecnología o no infectadas\n",
    "\n",
    "$$1 - \\frac{1}{n} + (1 - P_{inf}) 0.5^{n\\cdot P_{inf}}$$\n",
    "\n",
    "\n",
    "- No infectadas y mayor tecnología \n",
    "\n",
    "$$(1 - P_{inf})0.5^{n\\cdot P_{inf}}$$\n",
    "\n",
    "\n",
    "- Firmas con no mayor tecnología:\n",
    "\n",
    "$$\\left(1 - \\frac{1}{n} \\right)$$\n",
    "\n",
    "\n",
    "Imitar correctamente:\n",
    "\n",
    "$$\\left(1 - \\frac{1}{n} \\right)\\left( 1 - \\left( 1 - P_{\\text{imt}} \\right)^{s-1} \\right)$$"
   ]
  },
  {
   "cell_type": "markdown",
   "id": "8632793c-3095-41c7-94b2-ab16204c0e2a",
   "metadata": {},
   "source": [
    "\\subsection{Matriz de transición básica}\\label{app:básica}\n",
    "\n",
    "En esta sección, se presenta la matriz de transición que describe la evolución de las firmas a lo largo de los ciclos. La matriz establece dos posibles estados para cada firma: ``viva'' y ``muerta''. La probabilidad de que una firma transite de un estado a otro depende de varios factores relacionados con su capacidad para adaptarse a los cambios en la productividad y su interacción con otros agentes en el mercado.\n",
    "\n",
    "La probabilidad de que una firma sobreviva (es decir, que permanezca activa desde el momento cero hasta el momento uno) depende de dos factores principales. En primer lugar, la probabilidad de que tenga la mayor productividad al inicio del ciclo, lo que ocurre si se infecta y alcanza la máxima productividad disponible, o si no se infecta y todos los shocks a las firmas infectadas fueron negativos. En segundo lugar, si la firma no alcanza la máxima productividad inicialmente, su supervivencia dependerá de la probabilidad de imitar exitosamente antes de que finalice el ciclo. La probabilidad de extinción corresponde al complemento de la probabilidad de supervivencia, es decir, la diferencia entre uno y la probabilidad de sobrevivir.\n",
    "\n",
    "De este modo, la probabilidad de supervivencia puede expresarse como:\n",
    "\n",
    "$$Pr\\left(\\max \\text{productividad}|d_{int} = 1]\\right) $$\n",
    "$$Pr(\\text{Viva}_1|\\text{Viva}_0) = \\frac{1}{n} + \\left(1 - \\frac{1}{n}\\right) \\cdot \\left( 1 - \\left( 1 - P[d_{imt}=1] \\right)^{s-1} \\right)$$\n",
    "\n",
    "donde la probabilidad de que una firma tenga la mejor tecnología dado que se infectó es:\n",
    "\n",
    "$$Pr\\left(\\max \\text{productividad}|d_{int} = 1\\right)  = \\underbrace{\\frac{1}{n\\cdot Pr[d_{int} = 1]}}_{\\substack{\\text{Infectarse y} \\\\ \\text{alcanzar el máximo}}} \\cdot ( 1 - \\underbrace{n\\left(1 - Pr[d_{int} = 1]\\right)}_{\\substack{\\text{Probabilidad de que} \\\\ \\text{alguna firma no se haya} \\\\ \\text{infectado}}} \\underbrace{0.5^{n\\cdot Pr[d_{int} = 1]}}_{\\substack{\\text{Probabilidad de que} \\\\ \\text{todos los shocks} \\\\ \\text{sean negativos}}} )$$\n",
    "\n",
    "la probabilidad de que una firma tenga la mejor tecnología dado que no se infectó es:\n",
    "\n",
    "$$Pr\\left(\\max \\text{productividad}|d_{int} = 0]\\right) =  0.5^{n\\cdot Pr[d_{int} = 1]}$$\n",
    "\n",
    "De esta forma, la probabilidad de tener la tecnología máxima, utilizando la ley de la probabilidad total, es:\n",
    "\n",
    "$$Pr\\left(\\max \\text{productividad}\\right)= \\frac{1}{n}$$\n",
    "\n",
    "Mientras que la probabilidad de imitar exitosamente en alguno de los $s$ periodos restantes del ciclo se describe como:\n",
    "\n",
    "$$P[d_{imt}^{s-1}=1] = \\left( 1 - \\left( 1 - P[d_{imt}=1] \\right)^{s-1} \\right)$$\n",
    "\n",
    "Por otro lado, la probabilidad de pasar de ``muerta'' a ``viva'' es nula:\n",
    "\n",
    "$$Pr(\\text{Viva}_1|\\text{Muerta}_0) = 0$$\n"
   ]
  },
  {
   "cell_type": "code",
   "execution_count": 19,
   "id": "2c1fb27d-5f77-41b9-be43-f18b0572923a",
   "metadata": {},
   "outputs": [],
   "source": [
    "def transición(P_imt, s, n, T):\n",
    "    for _ in range(T):\n",
    "        prv_v = 1/n + (1 - 1/n)*(1-(1-P_imt)**(s-1))\n",
    "        n = n*prv_v\n",
    "    return prv_v, n"
   ]
  },
  {
   "cell_type": "code",
   "execution_count": 18,
   "id": "3d4faffe-22d7-4fa4-ab55-74555a999f4f",
   "metadata": {},
   "outputs": [
    {
     "data": {
      "text/plain": [
       "((0.9395833333333333, 28.1875), (0.9401707336236625, 22.001696586608887))"
      ]
     },
     "execution_count": 18,
     "metadata": {},
     "output_type": "execute_result"
    }
   ],
   "source": [
    "# Caso A\n",
    "\n",
    "P_inf = 0.6\n",
    "P_imt = 0.5\n",
    "s = 5\n",
    "n = 30\n",
    "\n",
    "transición(P_imt, s, n, 1), transición(P_imt, s, n, 5)"
   ]
  },
  {
   "cell_type": "code",
   "execution_count": 21,
   "id": "94c6584c-2be1-4119-a4c7-c2398fc9ae52",
   "metadata": {},
   "outputs": [
    {
     "data": {
      "text/plain": [
       "((0.7912, 23.736), (0.8020658531182403, 9.589706234167299))"
      ]
     },
     "execution_count": 21,
     "metadata": {},
     "output_type": "execute_result"
    }
   ],
   "source": [
    "# Caso B\n",
    "\n",
    "P_inf = 0.6\n",
    "P_imt = 0.4\n",
    "s = 4\n",
    "n = 30\n",
    "\n",
    "transición(P_imt, s, n, 1), transición(P_imt, s, n, 5)"
   ]
  }
 ],
 "metadata": {
  "kernelspec": {
   "display_name": "Python 3 (ipykernel)",
   "language": "python",
   "name": "python3"
  },
  "language_info": {
   "codemirror_mode": {
    "name": "ipython",
    "version": 3
   },
   "file_extension": ".py",
   "mimetype": "text/x-python",
   "name": "python",
   "nbconvert_exporter": "python",
   "pygments_lexer": "ipython3",
   "version": "3.10.6"
  },
  "widgets": {
   "application/vnd.jupyter.widget-state+json": {
    "state": {},
    "version_major": 2,
    "version_minor": 0
   }
  }
 },
 "nbformat": 4,
 "nbformat_minor": 5
}
