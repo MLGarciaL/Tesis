{
 "cells": [
  {
   "cell_type": "markdown",
   "id": "dff61c11-f54a-4ef0-a603-efb0fbe03115",
   "metadata": {},
   "source": [
    "En qué  carajos me estoy metiendo???\n",
    "\n",
    "Mención a Romer y AH, destaca el trabajo de Prescott y Kydland (1982) para demostrar la importancia de la dinámica de la economía a los shocks que esta pudiese sufrir, en particular los shocks de la tecnología. (Podría usarse como introducción al modelo de RBC)\n",
    "La pregunta sería, cuál es el efecto de un shock en el sector de investigación y desarrollo? \n",
    "\n",
    "\"Los teóricos de RBC postulan que un shock exógeno golpea a la economía, y se propaga en el tiempo debido a la sustitución intertemporal delos trabajadores de ocio.\"\n",
    "\n",
    "Paper Romer 1990: technical change arises in large part because of intentional actions taken by people who respond to market incentives.\n",
    "La relación positiva entre el crecimiento de la productividad total de factores (TFP por sus siglas en ingles) y la intensidad de I&D ha sido examinado en pasados trabajos como Scherer (1981) y Griliches and Litenberg (1984), encontrando una  relación positiva y largamente significativa. Sin embargo, los retornos de la investigación y desarrollo podrían verse limitados por la competencia y las facilidades para la imitación, aunque los resultados sobre esta hipótesis son antinómicos.\n",
    "\n",
    "\n",
    "## Motivación Empírica del Modelo\n",
    "\n",
    "Existe una relación a largo plazo entre el gasto en R&D y el GDP (hay cointegración). \n",
    "\n",
    "**The augmented Dickey-Fuller test is not used because the test statistics is contingent on the selection of autocorrelation order. Philips -Perron test does not depend on AR order and it accounts for heteroskedasticity and serial correlation.** Ver archivo Test Raíz Unitaria del 15/12.\n",
    "\n",
    "\n",
    "## Modelo \n",
    "\n",
    "El modelo toma parte del  modelo de AH (1997) y combina el modelo de Dixit y Stiglitz (1977) de bienes finales para representar la existencia de un mercado de competencia  monopolística. \n",
    "\n",
    "Los consumidores son dueños del capital y del trabajo para las firmas intermedias, y son accionistas de ellas. En este modelo, vamos  a adoptar el supuesto simplificador de que la investigación y desarrollo utiliza unicamente del bien  final como factor de producción. La tecnología llega de forma aleatoria a la tasa de Poisson **constante**, el cual es una función positiva de los factores de R&D. De esta forma, a medida que la tecnología se acumula en el largo plazo, el retroceso tecnológico queda fuera de juego. \n",
    "\n",
    "$$\\begin{array}{llll}\n",
    " & \\text{Flujo} && \\text{Stock} &\\\\\n",
    "\\hline\n",
    "  & \\text{Ingreso} & \\text{Gasto} & \\text{Activo} & \\text{Pasivo}\\\\\n",
    "\\hline\n",
    "\\text{Consumidores} & \\text{Trabajo}& \\text{Consumo} &\\text{Capital}& \\\\\n",
    " & \\text{Renta Capital}& &\\text{Bonos} & \\\\\n",
    " & \\text{Benef Inter}& & & \\\\\n",
    " & \\text{Transferencias}& & & \\\\\n",
    "\\hline\n",
    "\\text{Sector Final} & \\text{Producto} & \\text{Bien Intermedio}& &  \\\\\n",
    "\\hline\n",
    "\\text{Sector Intermedio} & \\text{Bien Intermedio} & \\text{Renta Capital}& &  \\\\\n",
    " & &\\text{Trabajo} & & \\\\\n",
    " & &\\text{Patentes} & & \\\\\n",
    " & &\\text{Benef Inter} & & \\\\\n",
    "\\hline\n",
    "\\text{Sector Investigación} & \\text{Patentes} & \\text{Bien Final}& &  \\\\\n",
    "\\hline\n",
    "\\text{Gobierno} & \\text{Gasto} & \\text{Transferencias}& &  \\\\\n",
    "\\hline\n",
    "\\end{array}$$\n",
    "\n",
    "### El consumidor representativo\n",
    "\n"
   ]
  }
 ],
 "metadata": {
  "kernelspec": {
   "display_name": "Python 3 (ipykernel)",
   "language": "python",
   "name": "python3"
  },
  "language_info": {
   "codemirror_mode": {
    "name": "ipython",
    "version": 3
   },
   "file_extension": ".py",
   "mimetype": "text/x-python",
   "name": "python",
   "nbconvert_exporter": "python",
   "pygments_lexer": "ipython3",
   "version": "3.10.6"
  },
  "widgets": {
   "application/vnd.jupyter.widget-state+json": {
    "state": {},
    "version_major": 2,
    "version_minor": 0
   }
  }
 },
 "nbformat": 4,
 "nbformat_minor": 5
}
