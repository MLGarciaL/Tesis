{
 "cells": [
  {
   "cell_type": "code",
   "execution_count": 3,
   "id": "ed60ad82-cea7-464c-bfd1-8dbe57c834ce",
   "metadata": {},
   "outputs": [
    {
     "data": {
      "text/html": [
       "<div>\n",
       "<style scoped>\n",
       "    .dataframe tbody tr th:only-of-type {\n",
       "        vertical-align: middle;\n",
       "    }\n",
       "\n",
       "    .dataframe tbody tr th {\n",
       "        vertical-align: top;\n",
       "    }\n",
       "\n",
       "    .dataframe thead th {\n",
       "        text-align: right;\n",
       "    }\n",
       "</style>\n",
       "<table border=\"1\" class=\"dataframe\">\n",
       "  <thead>\n",
       "    <tr style=\"text-align: right;\">\n",
       "      <th></th>\n",
       "      <th>Year</th>\n",
       "      <th>CapitalHumano</th>\n",
       "      <th>Code</th>\n",
       "    </tr>\n",
       "  </thead>\n",
       "  <tbody>\n",
       "    <tr>\n",
       "      <th>1796</th>\n",
       "      <td>2022</td>\n",
       "      <td>169.271408</td>\n",
       "      <td>KEN</td>\n",
       "    </tr>\n",
       "    <tr>\n",
       "      <th>1797</th>\n",
       "      <td>2022</td>\n",
       "      <td>569.009827</td>\n",
       "      <td>MUS</td>\n",
       "    </tr>\n",
       "    <tr>\n",
       "      <th>1798</th>\n",
       "      <td>2022</td>\n",
       "      <td>381.765961</td>\n",
       "      <td>OMN</td>\n",
       "    </tr>\n",
       "    <tr>\n",
       "      <th>1799</th>\n",
       "      <td>2022</td>\n",
       "      <td>681.505981</td>\n",
       "      <td>KAZ</td>\n",
       "    </tr>\n",
       "    <tr>\n",
       "      <th>1800</th>\n",
       "      <td>2022</td>\n",
       "      <td>1823.026489</td>\n",
       "      <td>GEO</td>\n",
       "    </tr>\n",
       "  </tbody>\n",
       "</table>\n",
       "</div>"
      ],
      "text/plain": [
       "      Year  CapitalHumano Code\n",
       "1796  2022     169.271408  KEN\n",
       "1797  2022     569.009827  MUS\n",
       "1798  2022     381.765961  OMN\n",
       "1799  2022     681.505981  KAZ\n",
       "1800  2022    1823.026489  GEO"
      ]
     },
     "execution_count": 3,
     "metadata": {},
     "output_type": "execute_result"
    }
   ],
   "source": [
    "import pandas as pd\n",
    "import wbdata\n",
    "\n",
    "indicators = {\n",
    "    \"SP.POP.SCIE.RD.P6\": \"CapitalHumano\",\n",
    "}\n",
    "\n",
    "# df_hc = wbdata.get_dataframe(indicators)\n",
    "# df_hc.reset_index(inplace=True)\n",
    "# notinc = df_hc['country'].unique()[0:49]\n",
    "# df_hc = df_hc[~df_hc['country'].isin(notinc)]\n",
    "# df_hc = df_hc.rename(columns = {'country':'Entity','date':'Year'})\n",
    "# countries = pd.DataFrame(wbdata.get_countries())\n",
    "# countries = countries[['id','name']].rename(columns = {'id':'Code','name':'Entity'})\n",
    "# df_hc = df_hc.merge(countries, on='Entity', how='left')\n",
    "# df_hc = df_hc.sort_values(by ='Year')\n",
    "# df_hc.dropna(subset=['CapitalHumano'], inplace=True)\n",
    "# df_hc.to_excel('Bases\\capitalhumano.xlsx',index = False)\n",
    " \n",
    "df_hc = pd.read_excel('Bases\\capitalhumano.xlsx')\n",
    "df_hc.drop('Entity', axis=1, inplace=True)\n",
    "df_hc.tail()"
   ]
  }
 ],
 "metadata": {
  "kernelspec": {
   "display_name": "Python 3 (ipykernel)",
   "language": "python",
   "name": "python3"
  },
  "language_info": {
   "codemirror_mode": {
    "name": "ipython",
    "version": 3
   },
   "file_extension": ".py",
   "mimetype": "text/x-python",
   "name": "python",
   "nbconvert_exporter": "python",
   "pygments_lexer": "ipython3",
   "version": "3.10.6"
  },
  "widgets": {
   "application/vnd.jupyter.widget-state+json": {
    "state": {},
    "version_major": 2,
    "version_minor": 0
   }
  }
 },
 "nbformat": 4,
 "nbformat_minor": 5
}
