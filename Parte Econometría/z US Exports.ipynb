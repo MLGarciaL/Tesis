{
 "cells": [
  {
   "cell_type": "markdown",
   "id": "172bf373-f4d6-4376-adae-730ac9216883",
   "metadata": {},
   "source": [
    "AUT, BEL, BGR, CAN, CHE, CHN, CYP, CZE, DEU, DNK, ESP, EST, FIN, FRA, GBR, GRC, HRV, HUN, IRL, ISL, ITA, JPN, KOR, LTU, LUX, LVA, MKD, MLT, NLD, NOR, POL, PRT, ROM, SER, SVK, SVN, SWE, TUR, USA"
   ]
  },
  {
   "cell_type": "code",
   "execution_count": 12,
   "id": "6f389d7f-6e0f-4f67-a584-b4fbc557e41e",
   "metadata": {},
   "outputs": [],
   "source": [
    "import pandas as pd\n",
    "\n",
    "Imports = pd.read_csv('Bases\\WITS Bases\\DataJobID-2789869_2789869_Exports2.csv')\n",
    "EUExports = pd.read_csv('Bases\\WITS Bases\\DataJobID-2789852_2789852_EuropeComerce.csv')\n",
    "\n",
    "#Limpiar y dejar solo el flujo que refiere a la cantidad de exportaciones\n",
    "EUExports = EUExports[EUExports['TradeFlowName'] == 'Export']\n",
    "#Limpiar columnas extras\n",
    "Imports = Imports[['ReporterISO3', 'ReporterName','Year','Imports G&S (Current USD)']]\n",
    "EUExports = EUExports.drop(columns =['Nomenclature','TradeFlowName', 'TradeFlowCode','ProductCode','PartnerISO3','PartnerName'])\n",
    "Imports = Imports[['Year', 'Imports G&S (Current USD)']].groupby('Year', as_index=False).sum()\n",
    "df_merged = Imports.merge(EUExports, on=['Year'], how = 'inner')\n",
    "\n",
    "#Porcentaje de representación de las exportaciones sobre el total de importaciones de la Unión Europea\n",
    "df_merged['Porcent'] = (df_merged['TradeValue in 1000 USD']*1000)/df_merged['Imports G&S (Current USD)']*100\n",
    "\n",
    "#Modificar Códigos para estandarización\n",
    "df_merged['ReporterISO3'] = df_merged['ReporterISO3'].replace({'ROM': 'ROU', 'SER': 'SRB'})\n",
    "\n",
    "#Modificar columnas para estandarización\n",
    "df_merged = df_merged[['ReporterISO3','Year','Porcent']]\n",
    "df_merged.rename(columns = {'ReporterISO3': 'Code'}, inplace=True)\n",
    "#df_merged.to_excel('Bases\\EUComercio.xlsx',index=False)"
   ]
  },
  {
   "cell_type": "code",
   "execution_count": 2,
   "id": "d57220f2-0054-4c51-a961-4d9b1c36c4e4",
   "metadata": {},
   "outputs": [
    {
     "data": {
      "text/html": [
       "<div>\n",
       "<style scoped>\n",
       "    .dataframe tbody tr th:only-of-type {\n",
       "        vertical-align: middle;\n",
       "    }\n",
       "\n",
       "    .dataframe tbody tr th {\n",
       "        vertical-align: top;\n",
       "    }\n",
       "\n",
       "    .dataframe thead th {\n",
       "        text-align: right;\n",
       "    }\n",
       "</style>\n",
       "<table border=\"1\" class=\"dataframe\">\n",
       "  <thead>\n",
       "    <tr style=\"text-align: right;\">\n",
       "      <th></th>\n",
       "      <th>Year</th>\n",
       "      <th>Porcent</th>\n",
       "    </tr>\n",
       "  </thead>\n",
       "  <tbody>\n",
       "    <tr>\n",
       "      <th>0</th>\n",
       "      <td>1988</td>\n",
       "      <td>63.703271</td>\n",
       "    </tr>\n",
       "    <tr>\n",
       "      <th>1</th>\n",
       "      <td>1989</td>\n",
       "      <td>64.016459</td>\n",
       "    </tr>\n",
       "    <tr>\n",
       "      <th>2</th>\n",
       "      <td>1990</td>\n",
       "      <td>62.437562</td>\n",
       "    </tr>\n",
       "    <tr>\n",
       "      <th>3</th>\n",
       "      <td>1991</td>\n",
       "      <td>62.302865</td>\n",
       "    </tr>\n",
       "    <tr>\n",
       "      <th>4</th>\n",
       "      <td>1992</td>\n",
       "      <td>62.214346</td>\n",
       "    </tr>\n",
       "  </tbody>\n",
       "</table>\n",
       "</div>"
      ],
      "text/plain": [
       "   Year    Porcent\n",
       "0  1988  63.703271\n",
       "1  1989  64.016459\n",
       "2  1990  62.437562\n",
       "3  1991  62.302865\n",
       "4  1992  62.214346"
      ]
     },
     "execution_count": 2,
     "metadata": {},
     "output_type": "execute_result"
    }
   ],
   "source": [
    "#Check\n",
    "df_merged[['Year', 'Porcent']].groupby('Year', as_index=False).sum().head()"
   ]
  }
 ],
 "metadata": {
  "kernelspec": {
   "display_name": "Python 3 (ipykernel)",
   "language": "python",
   "name": "python3"
  },
  "language_info": {
   "codemirror_mode": {
    "name": "ipython",
    "version": 3
   },
   "file_extension": ".py",
   "mimetype": "text/x-python",
   "name": "python",
   "nbconvert_exporter": "python",
   "pygments_lexer": "ipython3",
   "version": "3.10.6"
  },
  "widgets": {
   "application/vnd.jupyter.widget-state+json": {
    "state": {},
    "version_major": 2,
    "version_minor": 0
   }
  }
 },
 "nbformat": 4,
 "nbformat_minor": 5
}
