{
 "cells": [
  {
   "cell_type": "code",
   "execution_count": null,
   "id": "c6a5b701-2d0c-4e1f-881f-7448bc150f30",
   "metadata": {},
   "outputs": [],
   "source": [
    "import pandas as pd\n",
    "import wbdata\n",
    "\n",
    "# indicators = {\n",
    "#     \"IP.JRN.ARTC.SC\": \"ArtCientificos\",\n",
    "# }\n",
    "\n",
    "# df_stock = wbdata.get_dataframe(indicators)\n",
    "# df_stock.reset_index(inplace=True)\n",
    "# notinc = df_stock['country'].unique()[0:49]\n",
    "# df_stock = df_stock[~df_stock['country'].isin(notinc)]\n",
    "# df_stock = df_stock.rename(columns = {'country':'Entity','date':'Year'})\n",
    "# countries = pd.DataFrame(wbdata.get_countries())\n",
    "# countries = countries[['id','name']].rename(columns = {'id':'Code','name':'Entity'})\n",
    "# df_stock = df_stock.merge(countries, on='Entity', how='left')\n",
    "# df_stock = df_stock.sort_values(by ='Year')\n",
    "# df_stock.dropna(subset=['ArtCientificos'], inplace=True)\n",
    "# df_stock.to_excel('Bases/articuloscient.xlsx',index = False)\n",
    " \n",
    "df_stock = pd.read_excel('Bases/articuloscient.xlsx')\n",
    "df_stock['Year'] = df_stock['Year'] + 1\n",
    "df_stock.tail()"
   ]
  }
 ],
 "metadata": {
  "kernelspec": {
   "display_name": "Python (DataScience)",
   "language": "python",
   "name": "datascience"
  },
  "language_info": {
   "codemirror_mode": {
    "name": "ipython",
    "version": 3
   },
   "file_extension": ".py",
   "mimetype": "text/x-python",
   "name": "python",
   "nbconvert_exporter": "python",
   "pygments_lexer": "ipython3",
   "version": "3.10.6"
  },
  "widgets": {
   "application/vnd.jupyter.widget-state+json": {
    "state": {},
    "version_major": 2,
    "version_minor": 0
   }
  }
 },
 "nbformat": 4,
 "nbformat_minor": 5
}
